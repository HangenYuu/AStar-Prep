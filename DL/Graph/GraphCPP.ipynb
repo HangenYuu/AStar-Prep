{
 "cells": [
  {
   "cell_type": "markdown",
   "id": "408af924",
   "metadata": {},
   "source": [
    "# Explore"
   ]
  },
  {
   "cell_type": "code",
   "execution_count": null,
   "id": "74d86b76",
   "metadata": {},
   "outputs": [],
   "source": [
    "import pandas as pd\n",
    "\n",
    "from deepchem.feat import MolGraphConvFeaturizer, GraphData\n",
    "from rdkit import Chem"
   ]
  },
  {
   "cell_type": "code",
   "execution_count": 2,
   "id": "acd9dde0",
   "metadata": {},
   "outputs": [
    {
     "data": {
      "text/html": [
       "<div>\n",
       "<style scoped>\n",
       "    .dataframe tbody tr th:only-of-type {\n",
       "        vertical-align: middle;\n",
       "    }\n",
       "\n",
       "    .dataframe tbody tr th {\n",
       "        vertical-align: top;\n",
       "    }\n",
       "\n",
       "    .dataframe thead th {\n",
       "        text-align: right;\n",
       "    }\n",
       "</style>\n",
       "<table border=\"1\" class=\"dataframe\">\n",
       "  <thead>\n",
       "    <tr style=\"text-align: right;\">\n",
       "      <th></th>\n",
       "      <th>id</th>\n",
       "      <th>name</th>\n",
       "      <th>source</th>\n",
       "      <th>sequence</th>\n",
       "      <th>smiles</th>\n",
       "      <th>label</th>\n",
       "      <th>len</th>\n",
       "      <th>average_wt</th>\n",
       "      <th>is_cyclic</th>\n",
       "    </tr>\n",
       "  </thead>\n",
       "  <tbody>\n",
       "    <tr>\n",
       "      <th>0</th>\n",
       "      <td>0</td>\n",
       "      <td>MLCPP2_non_CPP_4095</td>\n",
       "      <td>MLCPP2</td>\n",
       "      <td>NVQLGPSLTEKL</td>\n",
       "      <td>CC(C)C[C@H](NC(=O)[C@H](CCCCN)NC(=O)[C@H](CCC(...</td>\n",
       "      <td>0</td>\n",
       "      <td>12</td>\n",
       "      <td>1298.505</td>\n",
       "      <td>False</td>\n",
       "    </tr>\n",
       "    <tr>\n",
       "      <th>1</th>\n",
       "      <td>1</td>\n",
       "      <td>Dobchevetal_CPP_3291</td>\n",
       "      <td>Dobchevetal</td>\n",
       "      <td>RLIKTLKTLLQKRKTL</td>\n",
       "      <td>CC[C@H](C)[C@H](NC(=O)[C@H](CC(C)C)NC(=O)[C@@H...</td>\n",
       "      <td>1</td>\n",
       "      <td>16</td>\n",
       "      <td>1953.499</td>\n",
       "      <td>False</td>\n",
       "    </tr>\n",
       "    <tr>\n",
       "      <th>2</th>\n",
       "      <td>2</td>\n",
       "      <td>C2Pred_CPP_145</td>\n",
       "      <td>C2Pred</td>\n",
       "      <td>WKCRRQCFRVLHHWN</td>\n",
       "      <td>CC(C)C[C@H](NC(=O)[C@@H](NC(=O)[C@H](CCCNC(=N)...</td>\n",
       "      <td>1</td>\n",
       "      <td>15</td>\n",
       "      <td>2069.466</td>\n",
       "      <td>False</td>\n",
       "    </tr>\n",
       "    <tr>\n",
       "      <th>3</th>\n",
       "      <td>3</td>\n",
       "      <td>MLCPP2_non_CPP_4717</td>\n",
       "      <td>MLCPP2</td>\n",
       "      <td>YHLSKEDAEVINATKKRGNKVI</td>\n",
       "      <td>CC[C@H](C)[C@H](NC(=O)[C@@H](NC(=O)[C@H](CCCCN...</td>\n",
       "      <td>0</td>\n",
       "      <td>22</td>\n",
       "      <td>2513.887</td>\n",
       "      <td>False</td>\n",
       "    </tr>\n",
       "    <tr>\n",
       "      <th>4</th>\n",
       "      <td>4</td>\n",
       "      <td>CellPPDindependent_CPP_1272</td>\n",
       "      <td>CellPPDindependent</td>\n",
       "      <td>RKKTFKEVANAVKISA</td>\n",
       "      <td>CC[C@H](C)[C@H](NC(=O)[C@H](CCCCN)NC(=O)[C@@H]...</td>\n",
       "      <td>1</td>\n",
       "      <td>16</td>\n",
       "      <td>1790.146</td>\n",
       "      <td>False</td>\n",
       "    </tr>\n",
       "  </tbody>\n",
       "</table>\n",
       "</div>"
      ],
      "text/plain": [
       "   id                         name              source  \\\n",
       "0   0          MLCPP2_non_CPP_4095              MLCPP2   \n",
       "1   1         Dobchevetal_CPP_3291         Dobchevetal   \n",
       "2   2               C2Pred_CPP_145              C2Pred   \n",
       "3   3          MLCPP2_non_CPP_4717              MLCPP2   \n",
       "4   4  CellPPDindependent_CPP_1272  CellPPDindependent   \n",
       "\n",
       "                 sequence                                             smiles  \\\n",
       "0            NVQLGPSLTEKL  CC(C)C[C@H](NC(=O)[C@H](CCCCN)NC(=O)[C@H](CCC(...   \n",
       "1        RLIKTLKTLLQKRKTL  CC[C@H](C)[C@H](NC(=O)[C@H](CC(C)C)NC(=O)[C@@H...   \n",
       "2         WKCRRQCFRVLHHWN  CC(C)C[C@H](NC(=O)[C@@H](NC(=O)[C@H](CCCNC(=N)...   \n",
       "3  YHLSKEDAEVINATKKRGNKVI  CC[C@H](C)[C@H](NC(=O)[C@@H](NC(=O)[C@H](CCCCN...   \n",
       "4        RKKTFKEVANAVKISA  CC[C@H](C)[C@H](NC(=O)[C@H](CCCCN)NC(=O)[C@@H]...   \n",
       "\n",
       "   label  len  average_wt  is_cyclic  \n",
       "0      0   12    1298.505      False  \n",
       "1      1   16    1953.499      False  \n",
       "2      1   15    2069.466      False  \n",
       "3      0   22    2513.887      False  \n",
       "4      1   16    1790.146      False  "
      ]
     },
     "execution_count": 2,
     "metadata": {},
     "output_type": "execute_result"
    }
   ],
   "source": [
    "data = pd.read_csv(\n",
    "    \"https://raw.githubusercontent.com/attilaimre99/CPP1708/refs/heads/main/train.csv\"\n",
    ")\n",
    "data.head()"
   ]
  },
  {
   "cell_type": "code",
   "execution_count": 3,
   "id": "49564cd4",
   "metadata": {},
   "outputs": [],
   "source": [
    "featurizer = MolGraphConvFeaturizer(use_edges=True, use_chirality=True)"
   ]
  },
  {
   "cell_type": "code",
   "execution_count": 4,
   "id": "121bd777",
   "metadata": {},
   "outputs": [],
   "source": [
    "smiles = str(data.loc[0, \"smiles\"])\n",
    "name = str(data.loc[0, \"name\"])\n",
    "mol = Chem.MolFromSmiles(smiles)"
   ]
  },
  {
   "cell_type": "code",
   "execution_count": 5,
   "id": "be56bb71",
   "metadata": {},
   "outputs": [
    {
     "data": {
      "text/plain": [
       "Data(x=[91, 32], edge_index=[2, 182], edge_attr=[182, 11], name='MLCPP2_non_CPP_4095')"
      ]
     },
     "execution_count": 5,
     "metadata": {},
     "output_type": "execute_result"
    }
   ],
   "source": [
    "featurized = featurizer.featurize(mol)[0]\n",
    "f = GraphData(\n",
    "    node_features=featurized.node_features,\n",
    "    edge_index=featurized.edge_index,\n",
    "    edge_features=featurized.edge_features,\n",
    ")\n",
    "pyg_data = f.to_pyg_graph()\n",
    "pyg_data.name = name\n",
    "pyg_data"
   ]
  },
  {
   "cell_type": "code",
   "execution_count": 7,
   "id": "0f91b77f",
   "metadata": {},
   "outputs": [
    {
     "data": {
      "text/plain": [
       "array([[1., 0., 0., ..., 0., 0., 0.],\n",
       "       [1., 0., 0., ..., 0., 0., 0.],\n",
       "       [1., 0., 0., ..., 0., 0., 0.],\n",
       "       ...,\n",
       "       [1., 0., 0., ..., 0., 0., 0.],\n",
       "       [0., 0., 1., ..., 0., 0., 0.],\n",
       "       [0., 0., 1., ..., 0., 0., 0.]])"
      ]
     },
     "execution_count": 7,
     "metadata": {},
     "output_type": "execute_result"
    }
   ],
   "source": [
    "f.node_features"
   ]
  },
  {
   "cell_type": "markdown",
   "id": "e104037f",
   "metadata": {},
   "source": [
    "# Use GraphCPP's implementation for the dataset"
   ]
  },
  {
   "cell_type": "markdown",
   "id": "6540f2ce",
   "metadata": {},
   "source": [
    "Use the molecular fingerprint generators from RDKit in file `fp_generators.py`"
   ]
  },
  {
   "cell_type": "code",
   "execution_count": null,
   "id": "f479b48c",
   "metadata": {},
   "outputs": [],
   "source": [
    "%%capture\n",
    "from torch_geometric.loader import DataLoader\n",
    "from graphcpp.dataset import CPPDataset\n",
    "from lightning import LightningDataModule\n",
    "from config import *"
   ]
  },
  {
   "cell_type": "code",
   "execution_count": 2,
   "id": "8fd8384d",
   "metadata": {},
   "outputs": [],
   "source": [
    "class GraphCPPDataModule(LightningDataModule):\n",
    "    def __init__(self, folder=\"data\", fp_type=\"topological\", **kwargs):\n",
    "        super().__init__()\n",
    "        self.train_split = CPPDataset(\n",
    "            root=folder, _split=\"train\", fp_type=fp_type\n",
    "        ).shuffle()\n",
    "        self.val_split = CPPDataset(\n",
    "            root=folder, _split=\"val\", fp_type=fp_type\n",
    "        ).shuffle()\n",
    "        self.test_split = CPPDataset(\n",
    "            root=folder, _split=\"test\", fp_type=fp_type\n",
    "        ).shuffle()\n",
    "\n",
    "    def train_dataloader(self):\n",
    "        return DataLoader(self.train_split, batch_size=BATCH_SIZE, shuffle=True)\n",
    "\n",
    "    def val_dataloader(self):\n",
    "        return DataLoader(self.val_split, batch_size=BATCH_SIZE)\n",
    "\n",
    "    def test_dataloader(self):\n",
    "        return DataLoader(self.test_split, batch_size=BATCH_SIZE)"
   ]
  },
  {
   "cell_type": "code",
   "execution_count": 3,
   "id": "ce6a1305",
   "metadata": {},
   "outputs": [],
   "source": [
    "module = GraphCPPDataModule()\n",
    "train_loader = module.train_dataloader()"
   ]
  },
  {
   "cell_type": "code",
   "execution_count": 13,
   "id": "6ae29d92",
   "metadata": {},
   "outputs": [
    {
     "name": "stdout",
     "output_type": "stream",
     "text": [
      "Batch 0:\n",
      "  Batch type: <class 'abc.DataBatch'>\n",
      "  Batch keys: ['x', 'edge_index', 'edge_attr', 'smiles', 'ptr', 'name', 'fp', 'y', 'batch']\n",
      "  Node features shape: torch.Size([87686, 32])\n",
      "  Labels shape: torch.Size([512])\n",
      "  Edge index: torch.Size([2, 178724])\n",
      "  Edge attr: torch.Size([178724, 11])\n"
     ]
    }
   ],
   "source": [
    "# Examine first batch\n",
    "for i, batch in enumerate(train_loader):\n",
    "    print(f\"Batch {i}:\")\n",
    "    print(f\"  Batch type: {type(batch)}\")\n",
    "    print(f\"  Batch keys: {batch.keys() if hasattr(batch, 'keys') else 'No keys'}\")\n",
    "\n",
    "    if hasattr(batch, \"x\"):\n",
    "        print(f\"  Node features shape: {batch.x.shape}\")\n",
    "    if hasattr(batch, \"y\"):\n",
    "        print(f\"  Labels shape: {batch.y.shape}\")\n",
    "    if hasattr(batch, \"edge_index\"):\n",
    "        print(f\"  Edge index: {batch.edge_index.shape}\")\n",
    "    if hasattr(batch, \"edge_attr\"):\n",
    "        print(f\"  Edge attr: {batch.edge_attr.shape}\")\n",
    "\n",
    "    break"
   ]
  }
 ],
 "metadata": {
  "kernelspec": {
   "display_name": "Python 3",
   "language": "python",
   "name": "python3"
  },
  "language_info": {
   "codemirror_mode": {
    "name": "ipython",
    "version": 3
   },
   "file_extension": ".py",
   "mimetype": "text/x-python",
   "name": "python",
   "nbconvert_exporter": "python",
   "pygments_lexer": "ipython3",
   "version": "3.9.23"
  }
 },
 "nbformat": 4,
 "nbformat_minor": 5
}
